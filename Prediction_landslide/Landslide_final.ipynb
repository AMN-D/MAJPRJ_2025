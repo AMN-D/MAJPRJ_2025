{
  "nbformat": 4,
  "nbformat_minor": 0,
  "metadata": {
    "colab": {
      "provenance": [],
      "gpuType": "T4"
    },
    "kernelspec": {
      "name": "python3",
      "display_name": "Python 3"
    },
    "language_info": {
      "name": "python"
    },
    "accelerator": "GPU"
  },
  "cells": [
    {
      "cell_type": "code",
      "source": [
        "# prompt: detele rows from sikkim file, of date range 2009 to 2014\n",
        "\n",
        "import pandas as pd\n",
        "\n",
        "file1 = \"/content/Manipur_Landslide.csv\"\n",
        "file2 = \"/content/Tripura_Landslide.csv\"\n",
        "file3 = \"/content/Assam_Landslide.csv\"\n",
        "file4 = \"/content/Meghalaya_Landslide.csv\"\n",
        "file5 = \"/content/Mizoram_Landslide.csv\"\n",
        "file6 = \"/content/Nagaland_Landslide.csv\"\n",
        "file7 = \"/content/Sikkim_Landslide.csv\"\n",
        "file8 = \"/content/Arunachal_Pradesh_Landslide.csv\"  # Replace with your first CSV file\n",
        "\n",
        "\n",
        "df1 = pd.read_csv(file1)\n",
        "df2 = pd.read_csv(file2)\n",
        "df3 = pd.read_csv(file3)\n",
        "df4 = pd.read_csv(file4)\n",
        "df5 = pd.read_csv(file5)\n",
        "df6 = pd.read_csv(file6)\n",
        "df7 = pd.read_csv(file7)\n",
        "df8 = pd.read_csv(file8)"
      ],
      "metadata": {
        "id": "MnFJ56Thkmf2"
      },
      "execution_count": null,
      "outputs": []
    },
    {
      "cell_type": "code",
      "source": [
        "import pandas as pd\n",
        "\n",
        "# List of files and corresponding output filenames\n",
        "files = {\n",
        "    \"Manipur\": \"/content/Manipur_Landslide.csv\",\n",
        "    \"Tripura\": \"/content/Tripura_Landslide.csv\",\n",
        "    \"Assam\": \"/content/Assam_Landslide.csv\",\n",
        "    \"Meghalaya\": \"/content/Meghalaya_Landslide.csv\",\n",
        "    \"Mizoram\": \"/content/Mizoram_Landslide.csv\",\n",
        "    \"Nagaland\": \"/content/Nagaland_Landslide.csv\",\n",
        "    \"Sikkim\": \"/content/Sikkim_Landslide.csv\",\n",
        "    \"Arunachal_Pradesh\": \"/content/Arunachal_Pradesh_Landslide.csv\"\n",
        "}\n",
        "\n",
        "# Process each file\n",
        "for state, file_path in files.items():\n",
        "    df = pd.read_csv(file_path)\n",
        "\n",
        "    # Convert the 'Date' column to datetime objects\n",
        "    df['date'] = pd.to_datetime(df['date'])\n",
        "\n",
        "    # Remove the time component, keeping only the date\n",
        "    df['date'] = df['date'].dt.date\n",
        "\n",
        "    # Convert the 'date' column to datetime objects again if necessary\n",
        "    df['date'] = pd.to_datetime(df['date'])\n",
        "\n",
        "    # Extract the year from the 'date' column\n",
        "    df['year'] = df['date'].dt.year\n",
        "\n",
        "    # Filter out rows where the year is between 2009 and 2014\n",
        "    df = df[~df['year'].between(2009, 2014)]\n",
        "\n",
        "    # Remove the temporary 'year' column\n",
        "    df = df.drop(columns=['year'])\n",
        "\n",
        "    # Save the cleaned data with the correct state name\n",
        "    output_filename = f\"/content/{state}_Landslide_Cleaned.csv\"\n",
        "    df.to_csv(output_filename, index=False)\n",
        "\n",
        "    print(f\"Cleaned file saved: {output_filename}\")\n"
      ],
      "metadata": {
        "colab": {
          "base_uri": "https://localhost:8080/"
        },
        "id": "lPV7ZxfwpGMq",
        "outputId": "adefe3bf-3939-41b7-c47f-aac57a2d15d8"
      },
      "execution_count": null,
      "outputs": [
        {
          "output_type": "stream",
          "name": "stdout",
          "text": [
            "Cleaned file saved: /content/Manipur_Landslide_Cleaned.csv\n",
            "Cleaned file saved: /content/Tripura_Landslide_Cleaned.csv\n",
            "Cleaned file saved: /content/Assam_Landslide_Cleaned.csv\n",
            "Cleaned file saved: /content/Meghalaya_Landslide_Cleaned.csv\n",
            "Cleaned file saved: /content/Mizoram_Landslide_Cleaned.csv\n",
            "Cleaned file saved: /content/Nagaland_Landslide_Cleaned.csv\n",
            "Cleaned file saved: /content/Sikkim_Landslide_Cleaned.csv\n",
            "Cleaned file saved: /content/Arunachal_Pradesh_Landslide_Cleaned.csv\n"
          ]
        }
      ]
    },
    {
      "cell_type": "code",
      "source": [
        "import pandas as pd\n",
        "import glob\n",
        "\n",
        "# List of cleaned CSV files\n",
        "file_paths = [\n",
        "    \"/content/Manipur_Landslide_Cleaned.csv\",\n",
        "    \"/content/Tripura_Landslide_Cleaned.csv\",\n",
        "    \"/content/Assam_Landslide_Cleaned.csv\",\n",
        "    \"/content/Meghalaya_Landslide_Cleaned.csv\",\n",
        "    \"/content/Mizoram_Landslide_Cleaned.csv\",\n",
        "    \"/content/Nagaland_Landslide_Cleaned.csv\",\n",
        "    \"/content/Sikkim_Landslide_Cleaned.csv\",\n",
        "    \"/content/Arunachal_Pradesh_Landslide_Cleaned.csv\"\n",
        "]\n",
        "\n",
        "# Read and merge all files\n",
        "dfs = [pd.read_csv(file) for file in file_paths]\n",
        "merged_df = pd.concat(dfs, ignore_index=True)\n",
        "\n",
        "# Save the merged file\n",
        "merged_df.to_csv(\"/content/Northeast__Landslide_Merged.csv\", index=False)\n",
        "\n",
        "print(\"Merged file saved: /content/Northeast_India_Landslide_Merged.csv\")\n"
      ],
      "metadata": {
        "colab": {
          "base_uri": "https://localhost:8080/"
        },
        "id": "IJjXS1j7rUfh",
        "outputId": "6a5ccdc3-6ab7-468f-9cc3-cdb89f1b3dd1"
      },
      "execution_count": null,
      "outputs": [
        {
          "output_type": "stream",
          "name": "stdout",
          "text": [
            "Merged file saved: /content/Northeast_India_Landslide_Merged.csv\n"
          ]
        }
      ]
    },
    {
      "cell_type": "code",
      "source": [
        "# prompt: rows of this\n",
        "\n",
        "merged_df.shape[0]\n",
        "\n",
        "merged_df\n"
      ],
      "metadata": {
        "colab": {
          "base_uri": "https://localhost:8080/",
          "height": 790
        },
        "id": "CodU01wjse8E",
        "outputId": "ea59974e-0d1a-4a2d-cf1a-da8e40592c9b"
      },
      "execution_count": null,
      "outputs": [
        {
          "output_type": "execute_result",
          "data": {
            "text/plain": [
              "                date  temperature_2m  relative_humidity_2m  precipitation  \\\n",
              "0         2015-01-01        9.924499             97.681160            0.0   \n",
              "1         2015-01-01       12.324500             91.167640            0.0   \n",
              "2         2015-01-01       15.324499             72.094790            0.0   \n",
              "3         2015-01-01       16.924500             64.667816            0.0   \n",
              "4         2015-01-01       17.524500             61.639183            0.0   \n",
              "...              ...             ...                   ...            ...   \n",
              "10908991  2025-03-14       11.476001            100.000000            0.0   \n",
              "10908992  2025-03-14       11.326000            100.000000            0.0   \n",
              "10908993  2025-03-14       11.326000            100.000000            0.0   \n",
              "10908994  2025-03-14       10.976001            100.000000            0.0   \n",
              "10908995  2025-03-14       10.976001            100.000000            0.0   \n",
              "\n",
              "          rain  snowfall  snow_depth  surface_pressure  cloud_cover  \\\n",
              "0          0.0       0.0         0.0         843.02780        100.0   \n",
              "1          0.0       0.0         0.0         845.34125        100.0   \n",
              "2          0.0       0.0         0.0         847.37946        100.0   \n",
              "3          0.0       0.0         0.0         847.98395        100.0   \n",
              "4          0.0       0.0         0.0         847.71970         98.0   \n",
              "...        ...       ...         ...               ...          ...   \n",
              "10908991   0.0       0.0         NaN         839.84130         99.0   \n",
              "10908992   0.0       0.0         NaN         840.17430        100.0   \n",
              "10908993   0.0       0.0         NaN         840.58880        100.0   \n",
              "10908994   0.0       0.0         NaN         840.48090        100.0   \n",
              "10908995   0.0       0.0         NaN         840.72960        100.0   \n",
              "\n",
              "          wind_speed_100m  soil_temperature_7_to_28cm  \\\n",
              "0                2.545584                   12.424499   \n",
              "1                2.620839                   12.374500   \n",
              "2                2.902413                   12.524500   \n",
              "3                4.610250                   12.674499   \n",
              "4                5.483357                   12.824500   \n",
              "...                   ...                         ...   \n",
              "10908991         5.920878                   12.326000   \n",
              "10908992         5.447788                   12.276000   \n",
              "10908993         4.711050                   12.226001   \n",
              "10908994         6.519877                   12.176001   \n",
              "10908995         5.762812                   12.126000   \n",
              "\n",
              "          soil_temperature_100_to_255cm  soil_moisture_7_to_28cm  \\\n",
              "0                             15.724501                    0.203   \n",
              "1                             15.724501                    0.203   \n",
              "2                             15.724501                    0.203   \n",
              "3                             15.724501                    0.203   \n",
              "4                             15.724501                    0.203   \n",
              "...                                 ...                      ...   \n",
              "10908991                      11.426001                    0.375   \n",
              "10908992                      11.426001                    0.375   \n",
              "10908993                      11.426001                    0.375   \n",
              "10908994                      11.426001                    0.376   \n",
              "10908995                      11.426001                    0.376   \n",
              "\n",
              "          soil_moisture_100_to_255cm                        location  \\\n",
              "0                              0.366                Kamjong, Manipur   \n",
              "1                              0.366                Kamjong, Manipur   \n",
              "2                              0.366                Kamjong, Manipur   \n",
              "3                              0.366                Kamjong, Manipur   \n",
              "4                              0.366                Kamjong, Manipur   \n",
              "...                              ...                             ...   \n",
              "10908991                       0.373  West Kameng, Arunachal Pradesh   \n",
              "10908992                       0.373  West Kameng, Arunachal Pradesh   \n",
              "10908993                       0.373  West Kameng, Arunachal Pradesh   \n",
              "10908994                       0.373  West Kameng, Arunachal Pradesh   \n",
              "10908995                       0.373  West Kameng, Arunachal Pradesh   \n",
              "\n",
              "          latitude  longitude  \n",
              "0          24.8615    94.5106  \n",
              "1          24.8615    94.5106  \n",
              "2          24.8615    94.5106  \n",
              "3          24.8615    94.5106  \n",
              "4          24.8615    94.5106  \n",
              "...            ...        ...  \n",
              "10908991   27.3428    92.3024  \n",
              "10908992   27.3428    92.3024  \n",
              "10908993   27.3428    92.3024  \n",
              "10908994   27.3428    92.3024  \n",
              "10908995   27.3428    92.3024  \n",
              "\n",
              "[10908996 rows x 17 columns]"
            ],
            "text/html": [
              "\n",
              "  <div id=\"df-f10351a7-4b1e-4ea0-b8a5-dbf13df7e87d\" class=\"colab-df-container\">\n",
              "    <div>\n",
              "<style scoped>\n",
              "    .dataframe tbody tr th:only-of-type {\n",
              "        vertical-align: middle;\n",
              "    }\n",
              "\n",
              "    .dataframe tbody tr th {\n",
              "        vertical-align: top;\n",
              "    }\n",
              "\n",
              "    .dataframe thead th {\n",
              "        text-align: right;\n",
              "    }\n",
              "</style>\n",
              "<table border=\"1\" class=\"dataframe\">\n",
              "  <thead>\n",
              "    <tr style=\"text-align: right;\">\n",
              "      <th></th>\n",
              "      <th>date</th>\n",
              "      <th>temperature_2m</th>\n",
              "      <th>relative_humidity_2m</th>\n",
              "      <th>precipitation</th>\n",
              "      <th>rain</th>\n",
              "      <th>snowfall</th>\n",
              "      <th>snow_depth</th>\n",
              "      <th>surface_pressure</th>\n",
              "      <th>cloud_cover</th>\n",
              "      <th>wind_speed_100m</th>\n",
              "      <th>soil_temperature_7_to_28cm</th>\n",
              "      <th>soil_temperature_100_to_255cm</th>\n",
              "      <th>soil_moisture_7_to_28cm</th>\n",
              "      <th>soil_moisture_100_to_255cm</th>\n",
              "      <th>location</th>\n",
              "      <th>latitude</th>\n",
              "      <th>longitude</th>\n",
              "    </tr>\n",
              "  </thead>\n",
              "  <tbody>\n",
              "    <tr>\n",
              "      <th>0</th>\n",
              "      <td>2015-01-01</td>\n",
              "      <td>9.924499</td>\n",
              "      <td>97.681160</td>\n",
              "      <td>0.0</td>\n",
              "      <td>0.0</td>\n",
              "      <td>0.0</td>\n",
              "      <td>0.0</td>\n",
              "      <td>843.02780</td>\n",
              "      <td>100.0</td>\n",
              "      <td>2.545584</td>\n",
              "      <td>12.424499</td>\n",
              "      <td>15.724501</td>\n",
              "      <td>0.203</td>\n",
              "      <td>0.366</td>\n",
              "      <td>Kamjong, Manipur</td>\n",
              "      <td>24.8615</td>\n",
              "      <td>94.5106</td>\n",
              "    </tr>\n",
              "    <tr>\n",
              "      <th>1</th>\n",
              "      <td>2015-01-01</td>\n",
              "      <td>12.324500</td>\n",
              "      <td>91.167640</td>\n",
              "      <td>0.0</td>\n",
              "      <td>0.0</td>\n",
              "      <td>0.0</td>\n",
              "      <td>0.0</td>\n",
              "      <td>845.34125</td>\n",
              "      <td>100.0</td>\n",
              "      <td>2.620839</td>\n",
              "      <td>12.374500</td>\n",
              "      <td>15.724501</td>\n",
              "      <td>0.203</td>\n",
              "      <td>0.366</td>\n",
              "      <td>Kamjong, Manipur</td>\n",
              "      <td>24.8615</td>\n",
              "      <td>94.5106</td>\n",
              "    </tr>\n",
              "    <tr>\n",
              "      <th>2</th>\n",
              "      <td>2015-01-01</td>\n",
              "      <td>15.324499</td>\n",
              "      <td>72.094790</td>\n",
              "      <td>0.0</td>\n",
              "      <td>0.0</td>\n",
              "      <td>0.0</td>\n",
              "      <td>0.0</td>\n",
              "      <td>847.37946</td>\n",
              "      <td>100.0</td>\n",
              "      <td>2.902413</td>\n",
              "      <td>12.524500</td>\n",
              "      <td>15.724501</td>\n",
              "      <td>0.203</td>\n",
              "      <td>0.366</td>\n",
              "      <td>Kamjong, Manipur</td>\n",
              "      <td>24.8615</td>\n",
              "      <td>94.5106</td>\n",
              "    </tr>\n",
              "    <tr>\n",
              "      <th>3</th>\n",
              "      <td>2015-01-01</td>\n",
              "      <td>16.924500</td>\n",
              "      <td>64.667816</td>\n",
              "      <td>0.0</td>\n",
              "      <td>0.0</td>\n",
              "      <td>0.0</td>\n",
              "      <td>0.0</td>\n",
              "      <td>847.98395</td>\n",
              "      <td>100.0</td>\n",
              "      <td>4.610250</td>\n",
              "      <td>12.674499</td>\n",
              "      <td>15.724501</td>\n",
              "      <td>0.203</td>\n",
              "      <td>0.366</td>\n",
              "      <td>Kamjong, Manipur</td>\n",
              "      <td>24.8615</td>\n",
              "      <td>94.5106</td>\n",
              "    </tr>\n",
              "    <tr>\n",
              "      <th>4</th>\n",
              "      <td>2015-01-01</td>\n",
              "      <td>17.524500</td>\n",
              "      <td>61.639183</td>\n",
              "      <td>0.0</td>\n",
              "      <td>0.0</td>\n",
              "      <td>0.0</td>\n",
              "      <td>0.0</td>\n",
              "      <td>847.71970</td>\n",
              "      <td>98.0</td>\n",
              "      <td>5.483357</td>\n",
              "      <td>12.824500</td>\n",
              "      <td>15.724501</td>\n",
              "      <td>0.203</td>\n",
              "      <td>0.366</td>\n",
              "      <td>Kamjong, Manipur</td>\n",
              "      <td>24.8615</td>\n",
              "      <td>94.5106</td>\n",
              "    </tr>\n",
              "    <tr>\n",
              "      <th>...</th>\n",
              "      <td>...</td>\n",
              "      <td>...</td>\n",
              "      <td>...</td>\n",
              "      <td>...</td>\n",
              "      <td>...</td>\n",
              "      <td>...</td>\n",
              "      <td>...</td>\n",
              "      <td>...</td>\n",
              "      <td>...</td>\n",
              "      <td>...</td>\n",
              "      <td>...</td>\n",
              "      <td>...</td>\n",
              "      <td>...</td>\n",
              "      <td>...</td>\n",
              "      <td>...</td>\n",
              "      <td>...</td>\n",
              "      <td>...</td>\n",
              "    </tr>\n",
              "    <tr>\n",
              "      <th>10908991</th>\n",
              "      <td>2025-03-14</td>\n",
              "      <td>11.476001</td>\n",
              "      <td>100.000000</td>\n",
              "      <td>0.0</td>\n",
              "      <td>0.0</td>\n",
              "      <td>0.0</td>\n",
              "      <td>NaN</td>\n",
              "      <td>839.84130</td>\n",
              "      <td>99.0</td>\n",
              "      <td>5.920878</td>\n",
              "      <td>12.326000</td>\n",
              "      <td>11.426001</td>\n",
              "      <td>0.375</td>\n",
              "      <td>0.373</td>\n",
              "      <td>West Kameng, Arunachal Pradesh</td>\n",
              "      <td>27.3428</td>\n",
              "      <td>92.3024</td>\n",
              "    </tr>\n",
              "    <tr>\n",
              "      <th>10908992</th>\n",
              "      <td>2025-03-14</td>\n",
              "      <td>11.326000</td>\n",
              "      <td>100.000000</td>\n",
              "      <td>0.0</td>\n",
              "      <td>0.0</td>\n",
              "      <td>0.0</td>\n",
              "      <td>NaN</td>\n",
              "      <td>840.17430</td>\n",
              "      <td>100.0</td>\n",
              "      <td>5.447788</td>\n",
              "      <td>12.276000</td>\n",
              "      <td>11.426001</td>\n",
              "      <td>0.375</td>\n",
              "      <td>0.373</td>\n",
              "      <td>West Kameng, Arunachal Pradesh</td>\n",
              "      <td>27.3428</td>\n",
              "      <td>92.3024</td>\n",
              "    </tr>\n",
              "    <tr>\n",
              "      <th>10908993</th>\n",
              "      <td>2025-03-14</td>\n",
              "      <td>11.326000</td>\n",
              "      <td>100.000000</td>\n",
              "      <td>0.0</td>\n",
              "      <td>0.0</td>\n",
              "      <td>0.0</td>\n",
              "      <td>NaN</td>\n",
              "      <td>840.58880</td>\n",
              "      <td>100.0</td>\n",
              "      <td>4.711050</td>\n",
              "      <td>12.226001</td>\n",
              "      <td>11.426001</td>\n",
              "      <td>0.375</td>\n",
              "      <td>0.373</td>\n",
              "      <td>West Kameng, Arunachal Pradesh</td>\n",
              "      <td>27.3428</td>\n",
              "      <td>92.3024</td>\n",
              "    </tr>\n",
              "    <tr>\n",
              "      <th>10908994</th>\n",
              "      <td>2025-03-14</td>\n",
              "      <td>10.976001</td>\n",
              "      <td>100.000000</td>\n",
              "      <td>0.0</td>\n",
              "      <td>0.0</td>\n",
              "      <td>0.0</td>\n",
              "      <td>NaN</td>\n",
              "      <td>840.48090</td>\n",
              "      <td>100.0</td>\n",
              "      <td>6.519877</td>\n",
              "      <td>12.176001</td>\n",
              "      <td>11.426001</td>\n",
              "      <td>0.376</td>\n",
              "      <td>0.373</td>\n",
              "      <td>West Kameng, Arunachal Pradesh</td>\n",
              "      <td>27.3428</td>\n",
              "      <td>92.3024</td>\n",
              "    </tr>\n",
              "    <tr>\n",
              "      <th>10908995</th>\n",
              "      <td>2025-03-14</td>\n",
              "      <td>10.976001</td>\n",
              "      <td>100.000000</td>\n",
              "      <td>0.0</td>\n",
              "      <td>0.0</td>\n",
              "      <td>0.0</td>\n",
              "      <td>NaN</td>\n",
              "      <td>840.72960</td>\n",
              "      <td>100.0</td>\n",
              "      <td>5.762812</td>\n",
              "      <td>12.126000</td>\n",
              "      <td>11.426001</td>\n",
              "      <td>0.376</td>\n",
              "      <td>0.373</td>\n",
              "      <td>West Kameng, Arunachal Pradesh</td>\n",
              "      <td>27.3428</td>\n",
              "      <td>92.3024</td>\n",
              "    </tr>\n",
              "  </tbody>\n",
              "</table>\n",
              "<p>10908996 rows × 17 columns</p>\n",
              "</div>\n",
              "    <div class=\"colab-df-buttons\">\n",
              "\n",
              "  <div class=\"colab-df-container\">\n",
              "    <button class=\"colab-df-convert\" onclick=\"convertToInteractive('df-f10351a7-4b1e-4ea0-b8a5-dbf13df7e87d')\"\n",
              "            title=\"Convert this dataframe to an interactive table.\"\n",
              "            style=\"display:none;\">\n",
              "\n",
              "  <svg xmlns=\"http://www.w3.org/2000/svg\" height=\"24px\" viewBox=\"0 -960 960 960\">\n",
              "    <path d=\"M120-120v-720h720v720H120Zm60-500h600v-160H180v160Zm220 220h160v-160H400v160Zm0 220h160v-160H400v160ZM180-400h160v-160H180v160Zm440 0h160v-160H620v160ZM180-180h160v-160H180v160Zm440 0h160v-160H620v160Z\"/>\n",
              "  </svg>\n",
              "    </button>\n",
              "\n",
              "  <style>\n",
              "    .colab-df-container {\n",
              "      display:flex;\n",
              "      gap: 12px;\n",
              "    }\n",
              "\n",
              "    .colab-df-convert {\n",
              "      background-color: #E8F0FE;\n",
              "      border: none;\n",
              "      border-radius: 50%;\n",
              "      cursor: pointer;\n",
              "      display: none;\n",
              "      fill: #1967D2;\n",
              "      height: 32px;\n",
              "      padding: 0 0 0 0;\n",
              "      width: 32px;\n",
              "    }\n",
              "\n",
              "    .colab-df-convert:hover {\n",
              "      background-color: #E2EBFA;\n",
              "      box-shadow: 0px 1px 2px rgba(60, 64, 67, 0.3), 0px 1px 3px 1px rgba(60, 64, 67, 0.15);\n",
              "      fill: #174EA6;\n",
              "    }\n",
              "\n",
              "    .colab-df-buttons div {\n",
              "      margin-bottom: 4px;\n",
              "    }\n",
              "\n",
              "    [theme=dark] .colab-df-convert {\n",
              "      background-color: #3B4455;\n",
              "      fill: #D2E3FC;\n",
              "    }\n",
              "\n",
              "    [theme=dark] .colab-df-convert:hover {\n",
              "      background-color: #434B5C;\n",
              "      box-shadow: 0px 1px 3px 1px rgba(0, 0, 0, 0.15);\n",
              "      filter: drop-shadow(0px 1px 2px rgba(0, 0, 0, 0.3));\n",
              "      fill: #FFFFFF;\n",
              "    }\n",
              "  </style>\n",
              "\n",
              "    <script>\n",
              "      const buttonEl =\n",
              "        document.querySelector('#df-f10351a7-4b1e-4ea0-b8a5-dbf13df7e87d button.colab-df-convert');\n",
              "      buttonEl.style.display =\n",
              "        google.colab.kernel.accessAllowed ? 'block' : 'none';\n",
              "\n",
              "      async function convertToInteractive(key) {\n",
              "        const element = document.querySelector('#df-f10351a7-4b1e-4ea0-b8a5-dbf13df7e87d');\n",
              "        const dataTable =\n",
              "          await google.colab.kernel.invokeFunction('convertToInteractive',\n",
              "                                                    [key], {});\n",
              "        if (!dataTable) return;\n",
              "\n",
              "        const docLinkHtml = 'Like what you see? Visit the ' +\n",
              "          '<a target=\"_blank\" href=https://colab.research.google.com/notebooks/data_table.ipynb>data table notebook</a>'\n",
              "          + ' to learn more about interactive tables.';\n",
              "        element.innerHTML = '';\n",
              "        dataTable['output_type'] = 'display_data';\n",
              "        await google.colab.output.renderOutput(dataTable, element);\n",
              "        const docLink = document.createElement('div');\n",
              "        docLink.innerHTML = docLinkHtml;\n",
              "        element.appendChild(docLink);\n",
              "      }\n",
              "    </script>\n",
              "  </div>\n",
              "\n",
              "\n",
              "<div id=\"df-bdf1f1a6-1c52-476e-ac95-d28d11c68ae7\">\n",
              "  <button class=\"colab-df-quickchart\" onclick=\"quickchart('df-bdf1f1a6-1c52-476e-ac95-d28d11c68ae7')\"\n",
              "            title=\"Suggest charts\"\n",
              "            style=\"display:none;\">\n",
              "\n",
              "<svg xmlns=\"http://www.w3.org/2000/svg\" height=\"24px\"viewBox=\"0 0 24 24\"\n",
              "     width=\"24px\">\n",
              "    <g>\n",
              "        <path d=\"M19 3H5c-1.1 0-2 .9-2 2v14c0 1.1.9 2 2 2h14c1.1 0 2-.9 2-2V5c0-1.1-.9-2-2-2zM9 17H7v-7h2v7zm4 0h-2V7h2v10zm4 0h-2v-4h2v4z\"/>\n",
              "    </g>\n",
              "</svg>\n",
              "  </button>\n",
              "\n",
              "<style>\n",
              "  .colab-df-quickchart {\n",
              "      --bg-color: #E8F0FE;\n",
              "      --fill-color: #1967D2;\n",
              "      --hover-bg-color: #E2EBFA;\n",
              "      --hover-fill-color: #174EA6;\n",
              "      --disabled-fill-color: #AAA;\n",
              "      --disabled-bg-color: #DDD;\n",
              "  }\n",
              "\n",
              "  [theme=dark] .colab-df-quickchart {\n",
              "      --bg-color: #3B4455;\n",
              "      --fill-color: #D2E3FC;\n",
              "      --hover-bg-color: #434B5C;\n",
              "      --hover-fill-color: #FFFFFF;\n",
              "      --disabled-bg-color: #3B4455;\n",
              "      --disabled-fill-color: #666;\n",
              "  }\n",
              "\n",
              "  .colab-df-quickchart {\n",
              "    background-color: var(--bg-color);\n",
              "    border: none;\n",
              "    border-radius: 50%;\n",
              "    cursor: pointer;\n",
              "    display: none;\n",
              "    fill: var(--fill-color);\n",
              "    height: 32px;\n",
              "    padding: 0;\n",
              "    width: 32px;\n",
              "  }\n",
              "\n",
              "  .colab-df-quickchart:hover {\n",
              "    background-color: var(--hover-bg-color);\n",
              "    box-shadow: 0 1px 2px rgba(60, 64, 67, 0.3), 0 1px 3px 1px rgba(60, 64, 67, 0.15);\n",
              "    fill: var(--button-hover-fill-color);\n",
              "  }\n",
              "\n",
              "  .colab-df-quickchart-complete:disabled,\n",
              "  .colab-df-quickchart-complete:disabled:hover {\n",
              "    background-color: var(--disabled-bg-color);\n",
              "    fill: var(--disabled-fill-color);\n",
              "    box-shadow: none;\n",
              "  }\n",
              "\n",
              "  .colab-df-spinner {\n",
              "    border: 2px solid var(--fill-color);\n",
              "    border-color: transparent;\n",
              "    border-bottom-color: var(--fill-color);\n",
              "    animation:\n",
              "      spin 1s steps(1) infinite;\n",
              "  }\n",
              "\n",
              "  @keyframes spin {\n",
              "    0% {\n",
              "      border-color: transparent;\n",
              "      border-bottom-color: var(--fill-color);\n",
              "      border-left-color: var(--fill-color);\n",
              "    }\n",
              "    20% {\n",
              "      border-color: transparent;\n",
              "      border-left-color: var(--fill-color);\n",
              "      border-top-color: var(--fill-color);\n",
              "    }\n",
              "    30% {\n",
              "      border-color: transparent;\n",
              "      border-left-color: var(--fill-color);\n",
              "      border-top-color: var(--fill-color);\n",
              "      border-right-color: var(--fill-color);\n",
              "    }\n",
              "    40% {\n",
              "      border-color: transparent;\n",
              "      border-right-color: var(--fill-color);\n",
              "      border-top-color: var(--fill-color);\n",
              "    }\n",
              "    60% {\n",
              "      border-color: transparent;\n",
              "      border-right-color: var(--fill-color);\n",
              "    }\n",
              "    80% {\n",
              "      border-color: transparent;\n",
              "      border-right-color: var(--fill-color);\n",
              "      border-bottom-color: var(--fill-color);\n",
              "    }\n",
              "    90% {\n",
              "      border-color: transparent;\n",
              "      border-bottom-color: var(--fill-color);\n",
              "    }\n",
              "  }\n",
              "</style>\n",
              "\n",
              "  <script>\n",
              "    async function quickchart(key) {\n",
              "      const quickchartButtonEl =\n",
              "        document.querySelector('#' + key + ' button');\n",
              "      quickchartButtonEl.disabled = true;  // To prevent multiple clicks.\n",
              "      quickchartButtonEl.classList.add('colab-df-spinner');\n",
              "      try {\n",
              "        const charts = await google.colab.kernel.invokeFunction(\n",
              "            'suggestCharts', [key], {});\n",
              "      } catch (error) {\n",
              "        console.error('Error during call to suggestCharts:', error);\n",
              "      }\n",
              "      quickchartButtonEl.classList.remove('colab-df-spinner');\n",
              "      quickchartButtonEl.classList.add('colab-df-quickchart-complete');\n",
              "    }\n",
              "    (() => {\n",
              "      let quickchartButtonEl =\n",
              "        document.querySelector('#df-bdf1f1a6-1c52-476e-ac95-d28d11c68ae7 button');\n",
              "      quickchartButtonEl.style.display =\n",
              "        google.colab.kernel.accessAllowed ? 'block' : 'none';\n",
              "    })();\n",
              "  </script>\n",
              "</div>\n",
              "\n",
              "  <div id=\"id_ef024ac3-4594-4a82-b73e-22d3e44bd997\">\n",
              "    <style>\n",
              "      .colab-df-generate {\n",
              "        background-color: #E8F0FE;\n",
              "        border: none;\n",
              "        border-radius: 50%;\n",
              "        cursor: pointer;\n",
              "        display: none;\n",
              "        fill: #1967D2;\n",
              "        height: 32px;\n",
              "        padding: 0 0 0 0;\n",
              "        width: 32px;\n",
              "      }\n",
              "\n",
              "      .colab-df-generate:hover {\n",
              "        background-color: #E2EBFA;\n",
              "        box-shadow: 0px 1px 2px rgba(60, 64, 67, 0.3), 0px 1px 3px 1px rgba(60, 64, 67, 0.15);\n",
              "        fill: #174EA6;\n",
              "      }\n",
              "\n",
              "      [theme=dark] .colab-df-generate {\n",
              "        background-color: #3B4455;\n",
              "        fill: #D2E3FC;\n",
              "      }\n",
              "\n",
              "      [theme=dark] .colab-df-generate:hover {\n",
              "        background-color: #434B5C;\n",
              "        box-shadow: 0px 1px 3px 1px rgba(0, 0, 0, 0.15);\n",
              "        filter: drop-shadow(0px 1px 2px rgba(0, 0, 0, 0.3));\n",
              "        fill: #FFFFFF;\n",
              "      }\n",
              "    </style>\n",
              "    <button class=\"colab-df-generate\" onclick=\"generateWithVariable('merged_df')\"\n",
              "            title=\"Generate code using this dataframe.\"\n",
              "            style=\"display:none;\">\n",
              "\n",
              "  <svg xmlns=\"http://www.w3.org/2000/svg\" height=\"24px\"viewBox=\"0 0 24 24\"\n",
              "       width=\"24px\">\n",
              "    <path d=\"M7,19H8.4L18.45,9,17,7.55,7,17.6ZM5,21V16.75L18.45,3.32a2,2,0,0,1,2.83,0l1.4,1.43a1.91,1.91,0,0,1,.58,1.4,1.91,1.91,0,0,1-.58,1.4L9.25,21ZM18.45,9,17,7.55Zm-12,3A5.31,5.31,0,0,0,4.9,8.1,5.31,5.31,0,0,0,1,6.5,5.31,5.31,0,0,0,4.9,4.9,5.31,5.31,0,0,0,6.5,1,5.31,5.31,0,0,0,8.1,4.9,5.31,5.31,0,0,0,12,6.5,5.46,5.46,0,0,0,6.5,12Z\"/>\n",
              "  </svg>\n",
              "    </button>\n",
              "    <script>\n",
              "      (() => {\n",
              "      const buttonEl =\n",
              "        document.querySelector('#id_ef024ac3-4594-4a82-b73e-22d3e44bd997 button.colab-df-generate');\n",
              "      buttonEl.style.display =\n",
              "        google.colab.kernel.accessAllowed ? 'block' : 'none';\n",
              "\n",
              "      buttonEl.onclick = () => {\n",
              "        google.colab.notebook.generateWithVariable('merged_df');\n",
              "      }\n",
              "      })();\n",
              "    </script>\n",
              "  </div>\n",
              "\n",
              "    </div>\n",
              "  </div>\n"
            ],
            "application/vnd.google.colaboratory.intrinsic+json": {
              "type": "dataframe",
              "variable_name": "merged_df"
            }
          },
          "metadata": {},
          "execution_count": 16
        }
      ]
    },
    {
      "cell_type": "code",
      "source": [
        "import pandas as pd\n",
        "merged_df = pd.read_csv(\"/content/Northeast__Landslide_Merged.csv\")\n",
        "# Print missing values present in the columns\n",
        "print(\"Missing values:\\n\",merged_df.isnull().sum())"
      ],
      "metadata": {
        "colab": {
          "base_uri": "https://localhost:8080/"
        },
        "id": "wdcyWrmJsz3R",
        "outputId": "777e927e-9716-43ef-b1d9-dd2bd2d27362"
      },
      "execution_count": 4,
      "outputs": [
        {
          "output_type": "stream",
          "name": "stdout",
          "text": [
            "Missing values:\n",
            " date                                 0\n",
            "temperature_2m                       1\n",
            "relative_humidity_2m                 1\n",
            "precipitation                        1\n",
            "rain                                 1\n",
            "snowfall                             1\n",
            "snow_depth                       13705\n",
            "surface_pressure                     1\n",
            "cloud_cover                          1\n",
            "wind_speed_100m                      1\n",
            "soil_temperature_7_to_28cm           1\n",
            "soil_temperature_100_to_255cm        1\n",
            "soil_moisture_7_to_28cm              1\n",
            "soil_moisture_100_to_255cm           1\n",
            "location                             1\n",
            "latitude                             1\n",
            "longitude                            1\n",
            "dtype: int64\n"
          ]
        }
      ]
    },
    {
      "cell_type": "code",
      "source": [
        "import pandas as pd\n",
        "import geopandas as gpd\n",
        "from shapely.geometry import Point\n",
        "import shutil\n",
        "import os\n",
        "\n",
        "# Load the CSV file\n",
        "csv_file = \"/content/Northeast__Landslide_Merged.csv\"  # Change this to your actual CSV file path\n",
        "df = pd.read_csv(csv_file)\n",
        "\n",
        "# Ensure latitude and longitude columns exist\n",
        "if not {'latitude', 'longitude'}.issubset(df.columns):\n",
        "    raise ValueError(\"CSV file must contain 'latitude' and 'longitude' columns.\")\n",
        "\n",
        "# Convert DataFrame to GeoDataFrame\n",
        "geometry = [Point(xy) for xy in zip(df[\"longitude\"], df[\"latitude\"])]\n",
        "gdf = gpd.GeoDataFrame(df, geometry=geometry, crs=\"EPSG:4326\")  # WGS 84 Coordinate System\n",
        "\n",
        "# Define output directory\n",
        "shapefile_dir = \"Landslide_final_shapefile\"\n",
        "os.makedirs(shapefile_dir, exist_ok=True)\n",
        "\n",
        "# Save as Shapefile inside the directory\n",
        "shapefile_path = os.path.join(shapefile_dir, \"Landslide_final.shp\")\n",
        "gdf.to_file(shapefile_path)\n",
        "\n",
        "# Zip the directory containing all shapefile components\n",
        "zip_file = \"Landslide_final_shapefile.zip\"\n",
        "shutil.make_archive(\"Landslide_final_shapefile\", 'zip', shapefile_dir)\n",
        "\n",
        "print(f\"✅ Shapefile and dependencies saved in {zip_file}\")"
      ],
      "metadata": {
        "colab": {
          "base_uri": "https://localhost:8080/"
        },
        "id": "zUJkKa9lts53",
        "outputId": "325d1190-1d93-48e3-f2f4-e0c35cd8d5ad"
      },
      "execution_count": 5,
      "outputs": [
        {
          "output_type": "stream",
          "name": "stderr",
          "text": [
            "<ipython-input-5-2a154b056502>:25: UserWarning: Column names longer than 10 characters will be truncated when saved to ESRI Shapefile.\n",
            "  gdf.to_file(shapefile_path)\n",
            "/usr/local/lib/python3.11/dist-packages/pyogrio/raw.py:723: RuntimeWarning: Normalized/laundered field name: 'temperature_2m' to 'temperatur'\n",
            "  ogr_write(\n",
            "/usr/local/lib/python3.11/dist-packages/pyogrio/raw.py:723: RuntimeWarning: Normalized/laundered field name: 'relative_humidity_2m' to 'relative_h'\n",
            "  ogr_write(\n",
            "/usr/local/lib/python3.11/dist-packages/pyogrio/raw.py:723: RuntimeWarning: Normalized/laundered field name: 'precipitation' to 'precipitat'\n",
            "  ogr_write(\n",
            "/usr/local/lib/python3.11/dist-packages/pyogrio/raw.py:723: RuntimeWarning: Normalized/laundered field name: 'surface_pressure' to 'surface_pr'\n",
            "  ogr_write(\n",
            "/usr/local/lib/python3.11/dist-packages/pyogrio/raw.py:723: RuntimeWarning: Normalized/laundered field name: 'cloud_cover' to 'cloud_cove'\n",
            "  ogr_write(\n",
            "/usr/local/lib/python3.11/dist-packages/pyogrio/raw.py:723: RuntimeWarning: Normalized/laundered field name: 'wind_speed_100m' to 'wind_speed'\n",
            "  ogr_write(\n",
            "/usr/local/lib/python3.11/dist-packages/pyogrio/raw.py:723: RuntimeWarning: Normalized/laundered field name: 'soil_temperature_7_to_28cm' to 'soil_tempe'\n",
            "  ogr_write(\n",
            "/usr/local/lib/python3.11/dist-packages/pyogrio/raw.py:723: RuntimeWarning: Normalized/laundered field name: 'soil_temperature_100_to_255cm' to 'soil_tem_1'\n",
            "  ogr_write(\n",
            "/usr/local/lib/python3.11/dist-packages/pyogrio/raw.py:723: RuntimeWarning: Normalized/laundered field name: 'soil_moisture_7_to_28cm' to 'soil_moist'\n",
            "  ogr_write(\n",
            "/usr/local/lib/python3.11/dist-packages/pyogrio/raw.py:723: RuntimeWarning: Normalized/laundered field name: 'soil_moisture_100_to_255cm' to 'soil_moi_1'\n",
            "  ogr_write(\n"
          ]
        },
        {
          "output_type": "stream",
          "name": "stdout",
          "text": [
            "✅ Shapefile and dependencies saved in Landslide_final_shapefile.zip\n"
          ]
        }
      ]
    },
    {
      "cell_type": "code",
      "source": [
        "# Step 3: Import Required Libraries\n",
        "import geopandas as gpd\n",
        "import pandas as pd\n",
        "import numpy as np\n",
        "import matplotlib.pyplot as plt\n",
        "import seaborn as sns\n",
        "import tensorflow as tf\n",
        "from tensorflow.keras.models import Sequential\n",
        "from tensorflow.keras.layers import LSTM, Dense, Dropout, Layer\n",
        "from sklearn.preprocessing import MinMaxScaler\n",
        "from sklearn.model_selection import train_test_split\n",
        "# Define Attention-based LSTM Model\n",
        "from tensorflow.keras.layers import Input, LSTM, Dense, Attention\n",
        "from tensorflow.keras.models import Model"
      ],
      "metadata": {
        "id": "aMjOXwlezrAW"
      },
      "execution_count": 2,
      "outputs": []
    },
    {
      "cell_type": "code",
      "source": [
        "shapefile_path = \"/content/Landslide_final_shapefile\"\n",
        "gdf = gpd.read_file(shapefile_path)"
      ],
      "metadata": {
        "id": "37_EEu5pz5VR"
      },
      "execution_count": 3,
      "outputs": []
    },
    {
      "cell_type": "code",
      "source": [
        "# Rename columns\n",
        "gdf.rename(columns={\n",
        "    \"temperatur\": \"temperature_2m\",\n",
        "    \"relative_h\": \"relative_humidity_2m\",\n",
        "    \"precipitat\": \"precipitation\",\n",
        "    \"surface_pr\": \"surface_pressure\",\n",
        "    \"cloud_cove\": \"cloud_cover\",\n",
        "    \"wind_speed\": \"wind_speed_100m\",\n",
        "    \"soil_tempe\": \"soil_temperature_7_to_28cm\",\n",
        "    \"soil_tem_1\": \"soil_temperature_100_to_255cm\",\n",
        "    \"soil_moist\": \"soil_moisture_7_to_28cm\",\n",
        "    \"soil_moi_1\": \"soil_moisture_100_to_255cm\"\n",
        "}, inplace=True)"
      ],
      "metadata": {
        "id": "Ur54hI3b0uQN"
      },
      "execution_count": 4,
      "outputs": []
    },
    {
      "cell_type": "code",
      "source": [
        "print(\"Shapefile rows and columns:\\n\", gdf.shape)"
      ],
      "metadata": {
        "colab": {
          "base_uri": "https://localhost:8080/"
        },
        "id": "oODTl7lm5MCJ",
        "outputId": "e5a373da-3e64-44a5-d24b-363f09d0f1bc"
      },
      "execution_count": 5,
      "outputs": [
        {
          "output_type": "stream",
          "name": "stdout",
          "text": [
            "Shapefile rows and columns:\n",
            " (2327401, 18)\n"
          ]
        }
      ]
    },
    {
      "cell_type": "code",
      "source": [
        "# Info\n",
        "print(\"Shapefile Info:\\n\", gdf.info())"
      ],
      "metadata": {
        "colab": {
          "base_uri": "https://localhost:8080/"
        },
        "id": "8v2gGYVC5QGu",
        "outputId": "e4a53d16-725b-430f-b58d-d580dbeec82b"
      },
      "execution_count": 6,
      "outputs": [
        {
          "output_type": "stream",
          "name": "stdout",
          "text": [
            "<class 'geopandas.geodataframe.GeoDataFrame'>\n",
            "RangeIndex: 2327401 entries, 0 to 2327400\n",
            "Data columns (total 18 columns):\n",
            " #   Column                         Dtype   \n",
            "---  ------                         -----   \n",
            " 0   date                           object  \n",
            " 1   temperature_2m                 float64 \n",
            " 2   relative_humidity_2m           float64 \n",
            " 3   precipitation                  float64 \n",
            " 4   rain                           float64 \n",
            " 5   snowfall                       float64 \n",
            " 6   snow_depth                     float64 \n",
            " 7   surface_pressure               float64 \n",
            " 8   cloud_cover                    float64 \n",
            " 9   wind_speed_100m                float64 \n",
            " 10  soil_temperature_7_to_28cm     float64 \n",
            " 11  soil_temperature_100_to_255cm  float64 \n",
            " 12  soil_moisture_7_to_28cm        float64 \n",
            " 13  soil_moisture_100_to_255cm     float64 \n",
            " 14  location                       object  \n",
            " 15  latitude                       float64 \n",
            " 16  longitude                      float64 \n",
            " 17  geometry                       geometry\n",
            "dtypes: float64(15), geometry(1), object(2)\n",
            "memory usage: 319.6+ MB\n",
            "Shapefile Info:\n",
            " None\n"
          ]
        }
      ]
    },
    {
      "cell_type": "code",
      "source": [
        "# Print missing values present in the columns\n",
        "print(\"Missing values:\\n\",gdf.isnull().sum())"
      ],
      "metadata": {
        "colab": {
          "base_uri": "https://localhost:8080/"
        },
        "id": "S8O12DyU5fDh",
        "outputId": "fc07ab91-64fe-4f7f-e377-75bf7823f74e"
      },
      "execution_count": 7,
      "outputs": [
        {
          "output_type": "stream",
          "name": "stdout",
          "text": [
            "Missing values:\n",
            " date                                 0\n",
            "temperature_2m                       1\n",
            "relative_humidity_2m                 1\n",
            "precipitation                        1\n",
            "rain                                 1\n",
            "snowfall                             1\n",
            "snow_depth                       14847\n",
            "surface_pressure                     1\n",
            "cloud_cover                          1\n",
            "wind_speed_100m                      1\n",
            "soil_temperature_7_to_28cm           1\n",
            "soil_temperature_100_to_255cm        1\n",
            "soil_moisture_7_to_28cm              1\n",
            "soil_moisture_100_to_255cm           1\n",
            "location                             1\n",
            "latitude                             1\n",
            "longitude                            1\n",
            "geometry                             1\n",
            "dtype: int64\n"
          ]
        }
      ]
    },
    {
      "cell_type": "code",
      "source": [
        "\n",
        "\n",
        "# For categorical features, you can impute with the mode or create a new category for missing values.\n",
        "\n",
        "for column in gdf.columns:\n",
        "  if gdf[column].isnull().any():\n",
        "    if pd.api.types.is_numeric_dtype(gdf[column]):\n",
        "      gdf[column].fillna(gdf[column].mean(), inplace=True)\n",
        "    else:\n",
        "      gdf[column].fillna(gdf[column].mode()[0], inplace=True)\n",
        "\n",
        "print(\"\\nMissing values after handling:\\n\", gdf.isnull().sum())\n"
      ],
      "metadata": {
        "colab": {
          "base_uri": "https://localhost:8080/"
        },
        "id": "pBFdFhl45h9n",
        "outputId": "ccfd12df-2f2e-47f6-ff34-95fe08d03912"
      },
      "execution_count": 8,
      "outputs": [
        {
          "output_type": "stream",
          "name": "stderr",
          "text": [
            "<ipython-input-8-f838fdb2af83>:6: FutureWarning: A value is trying to be set on a copy of a DataFrame or Series through chained assignment using an inplace method.\n",
            "The behavior will change in pandas 3.0. This inplace method will never work because the intermediate object on which we are setting values always behaves as a copy.\n",
            "\n",
            "For example, when doing 'df[col].method(value, inplace=True)', try using 'df.method({col: value}, inplace=True)' or df[col] = df[col].method(value) instead, to perform the operation inplace on the original object.\n",
            "\n",
            "\n",
            "  gdf[column].fillna(gdf[column].mean(), inplace=True)\n",
            "<ipython-input-8-f838fdb2af83>:8: FutureWarning: A value is trying to be set on a copy of a DataFrame or Series through chained assignment using an inplace method.\n",
            "The behavior will change in pandas 3.0. This inplace method will never work because the intermediate object on which we are setting values always behaves as a copy.\n",
            "\n",
            "For example, when doing 'df[col].method(value, inplace=True)', try using 'df.method({col: value}, inplace=True)' or df[col] = df[col].method(value) instead, to perform the operation inplace on the original object.\n",
            "\n",
            "\n",
            "  gdf[column].fillna(gdf[column].mode()[0], inplace=True)\n",
            "<ipython-input-8-f838fdb2af83>:8: UserWarning: Unable to sort modes: '<' not supported between instances of 'Point' and 'Point'\n",
            "  gdf[column].fillna(gdf[column].mode()[0], inplace=True)\n"
          ]
        },
        {
          "output_type": "stream",
          "name": "stdout",
          "text": [
            "\n",
            "Missing values after handling:\n",
            " date                             0\n",
            "temperature_2m                   0\n",
            "relative_humidity_2m             0\n",
            "precipitation                    0\n",
            "rain                             0\n",
            "snowfall                         0\n",
            "snow_depth                       0\n",
            "surface_pressure                 0\n",
            "cloud_cover                      0\n",
            "wind_speed_100m                  0\n",
            "soil_temperature_7_to_28cm       0\n",
            "soil_temperature_100_to_255cm    0\n",
            "soil_moisture_7_to_28cm          0\n",
            "soil_moisture_100_to_255cm       0\n",
            "location                         0\n",
            "latitude                         0\n",
            "longitude                        0\n",
            "geometry                         0\n",
            "dtype: int64\n"
          ]
        }
      ]
    },
    {
      "cell_type": "code",
      "source": [
        "if 'landslide_probability' not in gdf.columns:\n",
        "    threshold_precipitation = gdf['precipitation'].quantile(0.9)\n",
        "    threshold_soil_moisture = gdf['soil_moisture_7_to_28cm'].quantile(0.85)\n",
        "\n",
        "    gdf['landslide_probability'] = ((gdf['precipitation'] > threshold_precipitation) &\n",
        "                                    (gdf['soil_moisture_7_to_28cm'] > threshold_soil_moisture)).astype(int)\n",
        "\n",
        "print(\"✅ landslide_probability column restored!\")\n"
      ],
      "metadata": {
        "colab": {
          "base_uri": "https://localhost:8080/"
        },
        "id": "HKj9zYWm8A9W",
        "outputId": "b5cdab74-44fb-4b62-89f9-6d5c0d4f4d15"
      },
      "execution_count": 9,
      "outputs": [
        {
          "output_type": "stream",
          "name": "stdout",
          "text": [
            "✅ landslide_probability column restored!\n"
          ]
        }
      ]
    },
    {
      "cell_type": "code",
      "source": [
        "# Sorting by date and location (district)\n",
        "gdf.sort_values(by=['date', 'location'], inplace=True)\n",
        "\n",
        "# Select relevant features for landslide prediction\n",
        "features = [\"temperature_2m\", \"precipitation\", \"soil_moisture_7_to_28cm\",\n",
        "            \"soil_moisture_100_to_255cm\", \"wind_speed_100m\", \"surface_pressure\",\n",
        "            \"cloud_cover\", \"latitude\", \"longitude\"]\n",
        "\n",
        "target = \"landslide_probability\""
      ],
      "metadata": {
        "id": "RQjPiGZp8aHF"
      },
      "execution_count": 10,
      "outputs": []
    },
    {
      "cell_type": "code",
      "source": [
        "# Normalize features\n",
        "scaler = MinMaxScaler()\n",
        "gdf[features] = scaler.fit_transform(gdf[features])"
      ],
      "metadata": {
        "id": "Jg8Ytguv8f6O"
      },
      "execution_count": 11,
      "outputs": []
    },
    {
      "cell_type": "code",
      "source": [
        "def create_sequences(data, target, seq_length=24):\n",
        "    X, y = [], []\n",
        "    feature_data = data.drop(columns=[target])  # Exclude target from X\n",
        "    target_data = data[target]  # Extract only the target column\n",
        "\n",
        "    for i in range(len(data) - seq_length):\n",
        "        X.append(feature_data.iloc[i:i+seq_length].values)  # Past seq_length hours' features\n",
        "        y.append(target_data.iloc[i+seq_length])  # Landslide probability in the next hour\n",
        "\n",
        "    return np.array(X), np.array(y).reshape(-1, 1)  # Ensure y is (samples, 1)\n"
      ],
      "metadata": {
        "id": "YSISCwri80mK"
      },
      "execution_count": 14,
      "outputs": []
    },
    {
      "cell_type": "code",
      "source": [
        "# Prepare sequences, ensuring all necessary columns are included\n",
        "seq_length = 24  # Using past 72 hours for prediction\n",
        "X, y = create_sequences(gdf[features + [target]], target, seq_length)  # Pass target instead of seq_length"
      ],
      "metadata": {
        "id": "DsI_iEMv89sT"
      },
      "execution_count": 15,
      "outputs": []
    },
    {
      "cell_type": "code",
      "source": [
        "print(X.shape)\n",
        "print(y.shape)"
      ],
      "metadata": {
        "colab": {
          "base_uri": "https://localhost:8080/"
        },
        "id": "sHVyReXXFdHs",
        "outputId": "9ecfd42a-7aac-402e-ddc4-ec72e10a9d8d"
      },
      "execution_count": 16,
      "outputs": [
        {
          "output_type": "stream",
          "name": "stdout",
          "text": [
            "(2327377, 24, 9)\n",
            "(2327377, 1)\n"
          ]
        }
      ]
    },
    {
      "cell_type": "code",
      "source": [
        "# Split data into train and test sets\n",
        "train_size = int(len(X) * 0.8)\n",
        "X_train, X_test = X[:train_size], X[train_size:]\n",
        "y_train, y_test = y[:train_size], y[train_size:]"
      ],
      "metadata": {
        "id": "XztbFpSUFlcV"
      },
      "execution_count": 17,
      "outputs": []
    },
    {
      "cell_type": "code",
      "source": [
        "# ✅ Attention Layer Function\n",
        "def attention_layer(inputs):\n",
        "    attention = Attention()([inputs, inputs])\n",
        "    return Add()([inputs, attention])"
      ],
      "metadata": {
        "id": "mn38bKNpFqDa"
      },
      "execution_count": 18,
      "outputs": []
    },
    {
      "cell_type": "code",
      "source": [
        "# ✅ Build Advanced BiLSTM Model with Attention\n",
        "def build_advanced_lstm_model(input_shape):\n",
        "    inputs = Input(shape=input_shape)\n",
        "    x = Bidirectional(LSTM(100, return_sequences=True))(inputs)\n",
        "    x = Dropout(0.5)(x)\n",
        "    x = attention_layer(x)\n",
        "    x = Bidirectional(LSTM(50, return_sequences=True))(x)\n",
        "    x = Dropout(0.5)(x)\n",
        "    x = attention_layer(x)\n",
        "    x = LSTM(25, return_sequences=False)(x)\n",
        "    x = Dropout(0.5)(x)\n",
        "    outputs = Dense(1, activation='sigmoid')(x)\n",
        "\n",
        "    model = Model(inputs, outputs)\n",
        "    model.compile(optimizer=tf.keras.optimizers.Adam(learning_rate=0.01),\n",
        "                  loss='binary_crossentropy', metrics=['accuracy'])\n",
        "    return model"
      ],
      "metadata": {
        "id": "75xVi6dSFtEs"
      },
      "execution_count": 19,
      "outputs": []
    },
    {
      "cell_type": "code",
      "source": [
        "import numpy as np\n",
        "import pandas as pd\n",
        "import tensorflow as tf\n",
        "from tensorflow.keras.models import Model\n",
        "from tensorflow.keras.layers import LSTM, Dense, Dropout, Bidirectional, Input, Attention, Add\n",
        "from tensorflow.keras.callbacks import EarlyStopping, ReduceLROnPlateau\n",
        "from sklearn.preprocessing import MinMaxScaler, LabelEncoder\n",
        "from sklearn.model_selection import train_test_split\n",
        "from imblearn.over_sampling import SMOTE"
      ],
      "metadata": {
        "id": "MnCMZKQvFyQl"
      },
      "execution_count": 20,
      "outputs": []
    },
    {
      "cell_type": "code",
      "source": [
        "early_stopping = EarlyStopping(monitor='val_loss', patience=10, restore_best_weights=True, verbose=1)\n",
        "lr_scheduler = ReduceLROnPlateau(monitor='val_loss', factor=0.5, patience=3, verbose=1)"
      ],
      "metadata": {
        "id": "pm8QIw0BF1xb"
      },
      "execution_count": 21,
      "outputs": []
    },
    {
      "cell_type": "code",
      "source": [
        "# Build and train model\n",
        "model = build_advanced_lstm_model((seq_length, len(features)))\n",
        "model.fit(X_train, y_train, epochs=3, batch_size=256, validation_data=(X_test, y_test),\n",
        "          callbacks=[early_stopping, lr_scheduler])"
      ],
      "metadata": {
        "colab": {
          "base_uri": "https://localhost:8080/"
        },
        "id": "kPfZKhfDF6Dj",
        "outputId": "df686de4-bfe8-41b8-97ce-2e803d268349"
      },
      "execution_count": 22,
      "outputs": [
        {
          "output_type": "stream",
          "name": "stdout",
          "text": [
            "Epoch 1/3\n",
            "\u001b[1m7274/7274\u001b[0m \u001b[32m━━━━━━━━━━━━━━━━━━━━\u001b[0m\u001b[37m\u001b[0m \u001b[1m153s\u001b[0m 20ms/step - accuracy: 0.9679 - loss: 0.0936 - val_accuracy: 0.9778 - val_loss: 0.0558 - learning_rate: 0.0100\n",
            "Epoch 2/3\n",
            "\u001b[1m7274/7274\u001b[0m \u001b[32m━━━━━━━━━━━━━━━━━━━━\u001b[0m\u001b[37m\u001b[0m \u001b[1m143s\u001b[0m 20ms/step - accuracy: 0.9713 - loss: 0.0771 - val_accuracy: 0.9811 - val_loss: 0.0525 - learning_rate: 0.0100\n",
            "Epoch 3/3\n",
            "\u001b[1m7274/7274\u001b[0m \u001b[32m━━━━━━━━━━━━━━━━━━━━\u001b[0m\u001b[37m\u001b[0m \u001b[1m200s\u001b[0m 19ms/step - accuracy: 0.9731 - loss: 0.0743 - val_accuracy: 0.9819 - val_loss: 0.0519 - learning_rate: 0.0100\n",
            "Restoring model weights from the end of the best epoch: 3.\n"
          ]
        },
        {
          "output_type": "execute_result",
          "data": {
            "text/plain": [
              "<keras.src.callbacks.history.History at 0x79f2564faf10>"
            ]
          },
          "metadata": {},
          "execution_count": 22
        }
      ]
    },
    {
      "cell_type": "code",
      "source": [
        "  model.summary()"
      ],
      "metadata": {
        "colab": {
          "base_uri": "https://localhost:8080/",
          "height": 625
        },
        "id": "UByQ4TO5IJ-w",
        "outputId": "17ba6827-81ab-4e5b-f467-fe6c1b723b3c"
      },
      "execution_count": 23,
      "outputs": [
        {
          "output_type": "display_data",
          "data": {
            "text/plain": [
              "\u001b[1mModel: \"functional\"\u001b[0m\n"
            ],
            "text/html": [
              "<pre style=\"white-space:pre;overflow-x:auto;line-height:normal;font-family:Menlo,'DejaVu Sans Mono',consolas,'Courier New',monospace\"><span style=\"font-weight: bold\">Model: \"functional\"</span>\n",
              "</pre>\n"
            ]
          },
          "metadata": {}
        },
        {
          "output_type": "display_data",
          "data": {
            "text/plain": [
              "┏━━━━━━━━━━━━━━━━━━━━━━━━━━━┳━━━━━━━━━━━━━━━━━━━━━━━━┳━━━━━━━━━━━━━━━━┳━━━━━━━━━━━━━━━━━━━━━━━━┓\n",
              "┃\u001b[1m \u001b[0m\u001b[1mLayer (type)             \u001b[0m\u001b[1m \u001b[0m┃\u001b[1m \u001b[0m\u001b[1mOutput Shape          \u001b[0m\u001b[1m \u001b[0m┃\u001b[1m \u001b[0m\u001b[1m       Param #\u001b[0m\u001b[1m \u001b[0m┃\u001b[1m \u001b[0m\u001b[1mConnected to          \u001b[0m\u001b[1m \u001b[0m┃\n",
              "┡━━━━━━━━━━━━━━━━━━━━━━━━━━━╇━━━━━━━━━━━━━━━━━━━━━━━━╇━━━━━━━━━━━━━━━━╇━━━━━━━━━━━━━━━━━━━━━━━━┩\n",
              "│ input_layer (\u001b[38;5;33mInputLayer\u001b[0m)  │ (\u001b[38;5;45mNone\u001b[0m, \u001b[38;5;34m24\u001b[0m, \u001b[38;5;34m9\u001b[0m)          │              \u001b[38;5;34m0\u001b[0m │ -                      │\n",
              "├───────────────────────────┼────────────────────────┼────────────────┼────────────────────────┤\n",
              "│ bidirectional             │ (\u001b[38;5;45mNone\u001b[0m, \u001b[38;5;34m24\u001b[0m, \u001b[38;5;34m200\u001b[0m)        │         \u001b[38;5;34m88,000\u001b[0m │ input_layer[\u001b[38;5;34m0\u001b[0m][\u001b[38;5;34m0\u001b[0m]      │\n",
              "│ (\u001b[38;5;33mBidirectional\u001b[0m)           │                        │                │                        │\n",
              "├───────────────────────────┼────────────────────────┼────────────────┼────────────────────────┤\n",
              "│ dropout (\u001b[38;5;33mDropout\u001b[0m)         │ (\u001b[38;5;45mNone\u001b[0m, \u001b[38;5;34m24\u001b[0m, \u001b[38;5;34m200\u001b[0m)        │              \u001b[38;5;34m0\u001b[0m │ bidirectional[\u001b[38;5;34m0\u001b[0m][\u001b[38;5;34m0\u001b[0m]    │\n",
              "├───────────────────────────┼────────────────────────┼────────────────┼────────────────────────┤\n",
              "│ attention (\u001b[38;5;33mAttention\u001b[0m)     │ (\u001b[38;5;45mNone\u001b[0m, \u001b[38;5;34m24\u001b[0m, \u001b[38;5;34m200\u001b[0m)        │              \u001b[38;5;34m0\u001b[0m │ dropout[\u001b[38;5;34m0\u001b[0m][\u001b[38;5;34m0\u001b[0m],         │\n",
              "│                           │                        │                │ dropout[\u001b[38;5;34m0\u001b[0m][\u001b[38;5;34m0\u001b[0m]          │\n",
              "├───────────────────────────┼────────────────────────┼────────────────┼────────────────────────┤\n",
              "│ add (\u001b[38;5;33mAdd\u001b[0m)                 │ (\u001b[38;5;45mNone\u001b[0m, \u001b[38;5;34m24\u001b[0m, \u001b[38;5;34m200\u001b[0m)        │              \u001b[38;5;34m0\u001b[0m │ dropout[\u001b[38;5;34m0\u001b[0m][\u001b[38;5;34m0\u001b[0m],         │\n",
              "│                           │                        │                │ attention[\u001b[38;5;34m0\u001b[0m][\u001b[38;5;34m0\u001b[0m]        │\n",
              "├───────────────────────────┼────────────────────────┼────────────────┼────────────────────────┤\n",
              "│ bidirectional_1           │ (\u001b[38;5;45mNone\u001b[0m, \u001b[38;5;34m24\u001b[0m, \u001b[38;5;34m100\u001b[0m)        │        \u001b[38;5;34m100,400\u001b[0m │ add[\u001b[38;5;34m0\u001b[0m][\u001b[38;5;34m0\u001b[0m]              │\n",
              "│ (\u001b[38;5;33mBidirectional\u001b[0m)           │                        │                │                        │\n",
              "├───────────────────────────┼────────────────────────┼────────────────┼────────────────────────┤\n",
              "│ dropout_1 (\u001b[38;5;33mDropout\u001b[0m)       │ (\u001b[38;5;45mNone\u001b[0m, \u001b[38;5;34m24\u001b[0m, \u001b[38;5;34m100\u001b[0m)        │              \u001b[38;5;34m0\u001b[0m │ bidirectional_1[\u001b[38;5;34m0\u001b[0m][\u001b[38;5;34m0\u001b[0m]  │\n",
              "├───────────────────────────┼────────────────────────┼────────────────┼────────────────────────┤\n",
              "│ attention_1 (\u001b[38;5;33mAttention\u001b[0m)   │ (\u001b[38;5;45mNone\u001b[0m, \u001b[38;5;34m24\u001b[0m, \u001b[38;5;34m100\u001b[0m)        │              \u001b[38;5;34m0\u001b[0m │ dropout_1[\u001b[38;5;34m0\u001b[0m][\u001b[38;5;34m0\u001b[0m],       │\n",
              "│                           │                        │                │ dropout_1[\u001b[38;5;34m0\u001b[0m][\u001b[38;5;34m0\u001b[0m]        │\n",
              "├───────────────────────────┼────────────────────────┼────────────────┼────────────────────────┤\n",
              "│ add_1 (\u001b[38;5;33mAdd\u001b[0m)               │ (\u001b[38;5;45mNone\u001b[0m, \u001b[38;5;34m24\u001b[0m, \u001b[38;5;34m100\u001b[0m)        │              \u001b[38;5;34m0\u001b[0m │ dropout_1[\u001b[38;5;34m0\u001b[0m][\u001b[38;5;34m0\u001b[0m],       │\n",
              "│                           │                        │                │ attention_1[\u001b[38;5;34m0\u001b[0m][\u001b[38;5;34m0\u001b[0m]      │\n",
              "├───────────────────────────┼────────────────────────┼────────────────┼────────────────────────┤\n",
              "│ lstm_2 (\u001b[38;5;33mLSTM\u001b[0m)             │ (\u001b[38;5;45mNone\u001b[0m, \u001b[38;5;34m25\u001b[0m)             │         \u001b[38;5;34m12,600\u001b[0m │ add_1[\u001b[38;5;34m0\u001b[0m][\u001b[38;5;34m0\u001b[0m]            │\n",
              "├───────────────────────────┼────────────────────────┼────────────────┼────────────────────────┤\n",
              "│ dropout_2 (\u001b[38;5;33mDropout\u001b[0m)       │ (\u001b[38;5;45mNone\u001b[0m, \u001b[38;5;34m25\u001b[0m)             │              \u001b[38;5;34m0\u001b[0m │ lstm_2[\u001b[38;5;34m0\u001b[0m][\u001b[38;5;34m0\u001b[0m]           │\n",
              "├───────────────────────────┼────────────────────────┼────────────────┼────────────────────────┤\n",
              "│ dense (\u001b[38;5;33mDense\u001b[0m)             │ (\u001b[38;5;45mNone\u001b[0m, \u001b[38;5;34m1\u001b[0m)              │             \u001b[38;5;34m26\u001b[0m │ dropout_2[\u001b[38;5;34m0\u001b[0m][\u001b[38;5;34m0\u001b[0m]        │\n",
              "└───────────────────────────┴────────────────────────┴────────────────┴────────────────────────┘\n"
            ],
            "text/html": [
              "<pre style=\"white-space:pre;overflow-x:auto;line-height:normal;font-family:Menlo,'DejaVu Sans Mono',consolas,'Courier New',monospace\">┏━━━━━━━━━━━━━━━━━━━━━━━━━━━┳━━━━━━━━━━━━━━━━━━━━━━━━┳━━━━━━━━━━━━━━━━┳━━━━━━━━━━━━━━━━━━━━━━━━┓\n",
              "┃<span style=\"font-weight: bold\"> Layer (type)              </span>┃<span style=\"font-weight: bold\"> Output Shape           </span>┃<span style=\"font-weight: bold\">        Param # </span>┃<span style=\"font-weight: bold\"> Connected to           </span>┃\n",
              "┡━━━━━━━━━━━━━━━━━━━━━━━━━━━╇━━━━━━━━━━━━━━━━━━━━━━━━╇━━━━━━━━━━━━━━━━╇━━━━━━━━━━━━━━━━━━━━━━━━┩\n",
              "│ input_layer (<span style=\"color: #0087ff; text-decoration-color: #0087ff\">InputLayer</span>)  │ (<span style=\"color: #00d7ff; text-decoration-color: #00d7ff\">None</span>, <span style=\"color: #00af00; text-decoration-color: #00af00\">24</span>, <span style=\"color: #00af00; text-decoration-color: #00af00\">9</span>)          │              <span style=\"color: #00af00; text-decoration-color: #00af00\">0</span> │ -                      │\n",
              "├───────────────────────────┼────────────────────────┼────────────────┼────────────────────────┤\n",
              "│ bidirectional             │ (<span style=\"color: #00d7ff; text-decoration-color: #00d7ff\">None</span>, <span style=\"color: #00af00; text-decoration-color: #00af00\">24</span>, <span style=\"color: #00af00; text-decoration-color: #00af00\">200</span>)        │         <span style=\"color: #00af00; text-decoration-color: #00af00\">88,000</span> │ input_layer[<span style=\"color: #00af00; text-decoration-color: #00af00\">0</span>][<span style=\"color: #00af00; text-decoration-color: #00af00\">0</span>]      │\n",
              "│ (<span style=\"color: #0087ff; text-decoration-color: #0087ff\">Bidirectional</span>)           │                        │                │                        │\n",
              "├───────────────────────────┼────────────────────────┼────────────────┼────────────────────────┤\n",
              "│ dropout (<span style=\"color: #0087ff; text-decoration-color: #0087ff\">Dropout</span>)         │ (<span style=\"color: #00d7ff; text-decoration-color: #00d7ff\">None</span>, <span style=\"color: #00af00; text-decoration-color: #00af00\">24</span>, <span style=\"color: #00af00; text-decoration-color: #00af00\">200</span>)        │              <span style=\"color: #00af00; text-decoration-color: #00af00\">0</span> │ bidirectional[<span style=\"color: #00af00; text-decoration-color: #00af00\">0</span>][<span style=\"color: #00af00; text-decoration-color: #00af00\">0</span>]    │\n",
              "├───────────────────────────┼────────────────────────┼────────────────┼────────────────────────┤\n",
              "│ attention (<span style=\"color: #0087ff; text-decoration-color: #0087ff\">Attention</span>)     │ (<span style=\"color: #00d7ff; text-decoration-color: #00d7ff\">None</span>, <span style=\"color: #00af00; text-decoration-color: #00af00\">24</span>, <span style=\"color: #00af00; text-decoration-color: #00af00\">200</span>)        │              <span style=\"color: #00af00; text-decoration-color: #00af00\">0</span> │ dropout[<span style=\"color: #00af00; text-decoration-color: #00af00\">0</span>][<span style=\"color: #00af00; text-decoration-color: #00af00\">0</span>],         │\n",
              "│                           │                        │                │ dropout[<span style=\"color: #00af00; text-decoration-color: #00af00\">0</span>][<span style=\"color: #00af00; text-decoration-color: #00af00\">0</span>]          │\n",
              "├───────────────────────────┼────────────────────────┼────────────────┼────────────────────────┤\n",
              "│ add (<span style=\"color: #0087ff; text-decoration-color: #0087ff\">Add</span>)                 │ (<span style=\"color: #00d7ff; text-decoration-color: #00d7ff\">None</span>, <span style=\"color: #00af00; text-decoration-color: #00af00\">24</span>, <span style=\"color: #00af00; text-decoration-color: #00af00\">200</span>)        │              <span style=\"color: #00af00; text-decoration-color: #00af00\">0</span> │ dropout[<span style=\"color: #00af00; text-decoration-color: #00af00\">0</span>][<span style=\"color: #00af00; text-decoration-color: #00af00\">0</span>],         │\n",
              "│                           │                        │                │ attention[<span style=\"color: #00af00; text-decoration-color: #00af00\">0</span>][<span style=\"color: #00af00; text-decoration-color: #00af00\">0</span>]        │\n",
              "├───────────────────────────┼────────────────────────┼────────────────┼────────────────────────┤\n",
              "│ bidirectional_1           │ (<span style=\"color: #00d7ff; text-decoration-color: #00d7ff\">None</span>, <span style=\"color: #00af00; text-decoration-color: #00af00\">24</span>, <span style=\"color: #00af00; text-decoration-color: #00af00\">100</span>)        │        <span style=\"color: #00af00; text-decoration-color: #00af00\">100,400</span> │ add[<span style=\"color: #00af00; text-decoration-color: #00af00\">0</span>][<span style=\"color: #00af00; text-decoration-color: #00af00\">0</span>]              │\n",
              "│ (<span style=\"color: #0087ff; text-decoration-color: #0087ff\">Bidirectional</span>)           │                        │                │                        │\n",
              "├───────────────────────────┼────────────────────────┼────────────────┼────────────────────────┤\n",
              "│ dropout_1 (<span style=\"color: #0087ff; text-decoration-color: #0087ff\">Dropout</span>)       │ (<span style=\"color: #00d7ff; text-decoration-color: #00d7ff\">None</span>, <span style=\"color: #00af00; text-decoration-color: #00af00\">24</span>, <span style=\"color: #00af00; text-decoration-color: #00af00\">100</span>)        │              <span style=\"color: #00af00; text-decoration-color: #00af00\">0</span> │ bidirectional_1[<span style=\"color: #00af00; text-decoration-color: #00af00\">0</span>][<span style=\"color: #00af00; text-decoration-color: #00af00\">0</span>]  │\n",
              "├───────────────────────────┼────────────────────────┼────────────────┼────────────────────────┤\n",
              "│ attention_1 (<span style=\"color: #0087ff; text-decoration-color: #0087ff\">Attention</span>)   │ (<span style=\"color: #00d7ff; text-decoration-color: #00d7ff\">None</span>, <span style=\"color: #00af00; text-decoration-color: #00af00\">24</span>, <span style=\"color: #00af00; text-decoration-color: #00af00\">100</span>)        │              <span style=\"color: #00af00; text-decoration-color: #00af00\">0</span> │ dropout_1[<span style=\"color: #00af00; text-decoration-color: #00af00\">0</span>][<span style=\"color: #00af00; text-decoration-color: #00af00\">0</span>],       │\n",
              "│                           │                        │                │ dropout_1[<span style=\"color: #00af00; text-decoration-color: #00af00\">0</span>][<span style=\"color: #00af00; text-decoration-color: #00af00\">0</span>]        │\n",
              "├───────────────────────────┼────────────────────────┼────────────────┼────────────────────────┤\n",
              "│ add_1 (<span style=\"color: #0087ff; text-decoration-color: #0087ff\">Add</span>)               │ (<span style=\"color: #00d7ff; text-decoration-color: #00d7ff\">None</span>, <span style=\"color: #00af00; text-decoration-color: #00af00\">24</span>, <span style=\"color: #00af00; text-decoration-color: #00af00\">100</span>)        │              <span style=\"color: #00af00; text-decoration-color: #00af00\">0</span> │ dropout_1[<span style=\"color: #00af00; text-decoration-color: #00af00\">0</span>][<span style=\"color: #00af00; text-decoration-color: #00af00\">0</span>],       │\n",
              "│                           │                        │                │ attention_1[<span style=\"color: #00af00; text-decoration-color: #00af00\">0</span>][<span style=\"color: #00af00; text-decoration-color: #00af00\">0</span>]      │\n",
              "├───────────────────────────┼────────────────────────┼────────────────┼────────────────────────┤\n",
              "│ lstm_2 (<span style=\"color: #0087ff; text-decoration-color: #0087ff\">LSTM</span>)             │ (<span style=\"color: #00d7ff; text-decoration-color: #00d7ff\">None</span>, <span style=\"color: #00af00; text-decoration-color: #00af00\">25</span>)             │         <span style=\"color: #00af00; text-decoration-color: #00af00\">12,600</span> │ add_1[<span style=\"color: #00af00; text-decoration-color: #00af00\">0</span>][<span style=\"color: #00af00; text-decoration-color: #00af00\">0</span>]            │\n",
              "├───────────────────────────┼────────────────────────┼────────────────┼────────────────────────┤\n",
              "│ dropout_2 (<span style=\"color: #0087ff; text-decoration-color: #0087ff\">Dropout</span>)       │ (<span style=\"color: #00d7ff; text-decoration-color: #00d7ff\">None</span>, <span style=\"color: #00af00; text-decoration-color: #00af00\">25</span>)             │              <span style=\"color: #00af00; text-decoration-color: #00af00\">0</span> │ lstm_2[<span style=\"color: #00af00; text-decoration-color: #00af00\">0</span>][<span style=\"color: #00af00; text-decoration-color: #00af00\">0</span>]           │\n",
              "├───────────────────────────┼────────────────────────┼────────────────┼────────────────────────┤\n",
              "│ dense (<span style=\"color: #0087ff; text-decoration-color: #0087ff\">Dense</span>)             │ (<span style=\"color: #00d7ff; text-decoration-color: #00d7ff\">None</span>, <span style=\"color: #00af00; text-decoration-color: #00af00\">1</span>)              │             <span style=\"color: #00af00; text-decoration-color: #00af00\">26</span> │ dropout_2[<span style=\"color: #00af00; text-decoration-color: #00af00\">0</span>][<span style=\"color: #00af00; text-decoration-color: #00af00\">0</span>]        │\n",
              "└───────────────────────────┴────────────────────────┴────────────────┴────────────────────────┘\n",
              "</pre>\n"
            ]
          },
          "metadata": {}
        },
        {
          "output_type": "display_data",
          "data": {
            "text/plain": [
              "\u001b[1m Total params: \u001b[0m\u001b[38;5;34m603,080\u001b[0m (2.30 MB)\n"
            ],
            "text/html": [
              "<pre style=\"white-space:pre;overflow-x:auto;line-height:normal;font-family:Menlo,'DejaVu Sans Mono',consolas,'Courier New',monospace\"><span style=\"font-weight: bold\"> Total params: </span><span style=\"color: #00af00; text-decoration-color: #00af00\">603,080</span> (2.30 MB)\n",
              "</pre>\n"
            ]
          },
          "metadata": {}
        },
        {
          "output_type": "display_data",
          "data": {
            "text/plain": [
              "\u001b[1m Trainable params: \u001b[0m\u001b[38;5;34m201,026\u001b[0m (785.26 KB)\n"
            ],
            "text/html": [
              "<pre style=\"white-space:pre;overflow-x:auto;line-height:normal;font-family:Menlo,'DejaVu Sans Mono',consolas,'Courier New',monospace\"><span style=\"font-weight: bold\"> Trainable params: </span><span style=\"color: #00af00; text-decoration-color: #00af00\">201,026</span> (785.26 KB)\n",
              "</pre>\n"
            ]
          },
          "metadata": {}
        },
        {
          "output_type": "display_data",
          "data": {
            "text/plain": [
              "\u001b[1m Non-trainable params: \u001b[0m\u001b[38;5;34m0\u001b[0m (0.00 B)\n"
            ],
            "text/html": [
              "<pre style=\"white-space:pre;overflow-x:auto;line-height:normal;font-family:Menlo,'DejaVu Sans Mono',consolas,'Courier New',monospace\"><span style=\"font-weight: bold\"> Non-trainable params: </span><span style=\"color: #00af00; text-decoration-color: #00af00\">0</span> (0.00 B)\n",
              "</pre>\n"
            ]
          },
          "metadata": {}
        },
        {
          "output_type": "display_data",
          "data": {
            "text/plain": [
              "\u001b[1m Optimizer params: \u001b[0m\u001b[38;5;34m402,054\u001b[0m (1.53 MB)\n"
            ],
            "text/html": [
              "<pre style=\"white-space:pre;overflow-x:auto;line-height:normal;font-family:Menlo,'DejaVu Sans Mono',consolas,'Courier New',monospace\"><span style=\"font-weight: bold\"> Optimizer params: </span><span style=\"color: #00af00; text-decoration-color: #00af00\">402,054</span> (1.53 MB)\n",
              "</pre>\n"
            ]
          },
          "metadata": {}
        }
      ]
    },
    {
      "cell_type": "code",
      "source": [
        "import pickle\n",
        "\n",
        "# Save the model to a .pkl file\n",
        "with open(\"landslide_model.pkl\", \"wb\") as f:\n",
        "    pickle.dump(model, f)\n",
        "\n",
        "print(\"✅ Model saved as landslide_model.pkl\")"
      ],
      "metadata": {
        "colab": {
          "base_uri": "https://localhost:8080/"
        },
        "id": "RWjFuFf6IPs-",
        "outputId": "0bf29bdd-f642-4d82-c910-44e3be3688b3"
      },
      "execution_count": 25,
      "outputs": [
        {
          "output_type": "stream",
          "name": "stdout",
          "text": [
            "✅ Model saved as landslide_model.pkl\n"
          ]
        }
      ]
    },
    {
      "cell_type": "code",
      "source": [
        "import numpy as np\n",
        "import pandas as pd\n",
        "\n",
        "def predict_next_24_hours(model, recent_data, features, seq_length=24):\n",
        "    \"\"\"\n",
        "    Predicts landslide probability for the next 24 hours using the trained model.\n",
        "\n",
        "    Parameters:\n",
        "        model: Trained LSTM model\n",
        "        recent_data: Last `seq_length` hours of data (DataFrame)\n",
        "        features: List of feature column names\n",
        "        seq_length: Number of past hours used for prediction (default 24)\n",
        "\n",
        "    Returns:\n",
        "        predictions: List of predicted landslide probabilities for the next 24 hours\n",
        "    \"\"\"\n",
        "    predictions = []\n",
        "    input_seq = recent_data[features].values.reshape(1, seq_length, len(features))  # Shape (1, 24, features)\n",
        "\n",
        "    for _ in range(24):  # Predict for the next 24 hours\n",
        "        next_hour_pred = model.predict(input_seq)[0, 0]  # Get single prediction\n",
        "        predictions.append(next_hour_pred)\n",
        "\n",
        "        # Shift the sequence: remove first hour, add the new prediction\n",
        "        next_hour_features = input_seq[:, -1, :].copy()  # Copy last hour's features\n",
        "        next_hour_features[-1] = next_hour_pred  # Replace landslide probability with prediction\n",
        "        input_seq = np.roll(input_seq, shift=-1, axis=1)  # Shift left\n",
        "        input_seq[:, -1, :] = next_hour_features  # Add new hour\n",
        "\n",
        "    return predictions\n",
        "\n",
        "# Example Usage:\n",
        "recent_data = gdf.iloc[-24:]  # Get last 24 hours from dataset\n",
        "predictions = predict_next_24_hours(model, recent_data, features)\n",
        "\n",
        "gdf['date'] = pd.to_datetime(gdf['date'])  # Ensure datetime format\n",
        "\n",
        "# Generate future timestamps (next 24 hours)\n",
        "future_dates = pd.date_range(start=gdf['date'].iloc[-1] + pd.Timedelta(hours=1), periods=24, freq='H')\n",
        "prediction_df = pd.DataFrame({'date': future_dates, 'predicted_landslide_probability': predictions})\n",
        "print(prediction_df)\n"
      ],
      "metadata": {
        "colab": {
          "base_uri": "https://localhost:8080/"
        },
        "id": "6RrOU4sSJQo9",
        "outputId": "96b2f8db-b7fc-4b4e-b536-d01c889990fe"
      },
      "execution_count": 29,
      "outputs": [
        {
          "output_type": "stream",
          "name": "stdout",
          "text": [
            "\u001b[1m1/1\u001b[0m \u001b[32m━━━━━━━━━━━━━━━━━━━━\u001b[0m\u001b[37m\u001b[0m \u001b[1m1s\u001b[0m 707ms/step\n",
            "\u001b[1m1/1\u001b[0m \u001b[32m━━━━━━━━━━━━━━━━━━━━\u001b[0m\u001b[37m\u001b[0m \u001b[1m0s\u001b[0m 31ms/step\n",
            "\u001b[1m1/1\u001b[0m \u001b[32m━━━━━━━━━━━━━━━━━━━━\u001b[0m\u001b[37m\u001b[0m \u001b[1m0s\u001b[0m 31ms/step\n",
            "\u001b[1m1/1\u001b[0m \u001b[32m━━━━━━━━━━━━━━━━━━━━\u001b[0m\u001b[37m\u001b[0m \u001b[1m0s\u001b[0m 31ms/step\n",
            "\u001b[1m1/1\u001b[0m \u001b[32m━━━━━━━━━━━━━━━━━━━━\u001b[0m\u001b[37m\u001b[0m \u001b[1m0s\u001b[0m 32ms/step\n",
            "\u001b[1m1/1\u001b[0m \u001b[32m━━━━━━━━━━━━━━━━━━━━\u001b[0m\u001b[37m\u001b[0m \u001b[1m0s\u001b[0m 33ms/step\n",
            "\u001b[1m1/1\u001b[0m \u001b[32m━━━━━━━━━━━━━━━━━━━━\u001b[0m\u001b[37m\u001b[0m \u001b[1m0s\u001b[0m 31ms/step\n",
            "\u001b[1m1/1\u001b[0m \u001b[32m━━━━━━━━━━━━━━━━━━━━\u001b[0m\u001b[37m\u001b[0m \u001b[1m0s\u001b[0m 30ms/step\n",
            "\u001b[1m1/1\u001b[0m \u001b[32m━━━━━━━━━━━━━━━━━━━━\u001b[0m\u001b[37m\u001b[0m \u001b[1m0s\u001b[0m 29ms/step\n",
            "\u001b[1m1/1\u001b[0m \u001b[32m━━━━━━━━━━━━━━━━━━━━\u001b[0m\u001b[37m\u001b[0m \u001b[1m0s\u001b[0m 31ms/step\n",
            "\u001b[1m1/1\u001b[0m \u001b[32m━━━━━━━━━━━━━━━━━━━━\u001b[0m\u001b[37m\u001b[0m \u001b[1m0s\u001b[0m 30ms/step\n",
            "\u001b[1m1/1\u001b[0m \u001b[32m━━━━━━━━━━━━━━━━━━━━\u001b[0m\u001b[37m\u001b[0m \u001b[1m0s\u001b[0m 31ms/step\n",
            "\u001b[1m1/1\u001b[0m \u001b[32m━━━━━━━━━━━━━━━━━━━━\u001b[0m\u001b[37m\u001b[0m \u001b[1m0s\u001b[0m 32ms/step\n",
            "\u001b[1m1/1\u001b[0m \u001b[32m━━━━━━━━━━━━━━━━━━━━\u001b[0m\u001b[37m\u001b[0m \u001b[1m0s\u001b[0m 34ms/step\n",
            "\u001b[1m1/1\u001b[0m \u001b[32m━━━━━━━━━━━━━━━━━━━━\u001b[0m\u001b[37m\u001b[0m \u001b[1m0s\u001b[0m 31ms/step\n",
            "\u001b[1m1/1\u001b[0m \u001b[32m━━━━━━━━━━━━━━━━━━━━\u001b[0m\u001b[37m\u001b[0m \u001b[1m0s\u001b[0m 30ms/step\n",
            "\u001b[1m1/1\u001b[0m \u001b[32m━━━━━━━━━━━━━━━━━━━━\u001b[0m\u001b[37m\u001b[0m \u001b[1m0s\u001b[0m 31ms/step\n",
            "\u001b[1m1/1\u001b[0m \u001b[32m━━━━━━━━━━━━━━━━━━━━\u001b[0m\u001b[37m\u001b[0m \u001b[1m0s\u001b[0m 31ms/step\n",
            "\u001b[1m1/1\u001b[0m \u001b[32m━━━━━━━━━━━━━━━━━━━━\u001b[0m\u001b[37m\u001b[0m \u001b[1m0s\u001b[0m 39ms/step\n",
            "\u001b[1m1/1\u001b[0m \u001b[32m━━━━━━━━━━━━━━━━━━━━\u001b[0m\u001b[37m\u001b[0m \u001b[1m0s\u001b[0m 37ms/step\n",
            "\u001b[1m1/1\u001b[0m \u001b[32m━━━━━━━━━━━━━━━━━━━━\u001b[0m\u001b[37m\u001b[0m \u001b[1m0s\u001b[0m 32ms/step\n",
            "\u001b[1m1/1\u001b[0m \u001b[32m━━━━━━━━━━━━━━━━━━━━\u001b[0m\u001b[37m\u001b[0m \u001b[1m0s\u001b[0m 30ms/step\n",
            "\u001b[1m1/1\u001b[0m \u001b[32m━━━━━━━━━━━━━━━━━━━━\u001b[0m\u001b[37m\u001b[0m \u001b[1m0s\u001b[0m 31ms/step\n",
            "\u001b[1m1/1\u001b[0m \u001b[32m━━━━━━━━━━━━━━━━━━━━\u001b[0m\u001b[37m\u001b[0m \u001b[1m0s\u001b[0m 32ms/step\n"
          ]
        },
        {
          "output_type": "stream",
          "name": "stderr",
          "text": [
            "<ipython-input-29-1469544968b6>:36: UserWarning: Could not infer format, so each element will be parsed individually, falling back to `dateutil`. To ensure parsing is consistent and as-expected, please specify a format.\n",
            "  gdf['date'] = pd.to_datetime(gdf['date'])  # Ensure datetime format\n"
          ]
        },
        {
          "output_type": "stream",
          "name": "stdout",
          "text": [
            "                  date  predicted_landslide_probability\n",
            "0  2025-03-14 01:00:00                         0.000540\n",
            "1  2025-03-14 02:00:00                         0.000533\n",
            "2  2025-03-14 03:00:00                         0.000536\n",
            "3  2025-03-14 04:00:00                         0.000538\n",
            "4  2025-03-14 05:00:00                         0.000539\n",
            "5  2025-03-14 06:00:00                         0.000534\n",
            "6  2025-03-14 07:00:00                         0.000533\n",
            "7  2025-03-14 08:00:00                         0.000534\n",
            "8  2025-03-14 09:00:00                         0.000534\n",
            "9  2025-03-14 10:00:00                         0.000534\n",
            "10 2025-03-14 11:00:00                         0.000534\n",
            "11 2025-03-14 12:00:00                         0.000534\n",
            "12 2025-03-14 13:00:00                         0.000534\n",
            "13 2025-03-14 14:00:00                         0.000534\n",
            "14 2025-03-14 15:00:00                         0.000535\n",
            "15 2025-03-14 16:00:00                         0.000536\n",
            "16 2025-03-14 17:00:00                         0.000536\n",
            "17 2025-03-14 18:00:00                         0.000537\n",
            "18 2025-03-14 19:00:00                         0.000540\n",
            "19 2025-03-14 20:00:00                         0.000543\n",
            "20 2025-03-14 21:00:00                         0.000549\n",
            "21 2025-03-14 22:00:00                         0.000554\n",
            "22 2025-03-14 23:00:00                         0.000566\n",
            "23 2025-03-15 00:00:00                         0.000581\n"
          ]
        },
        {
          "output_type": "stream",
          "name": "stderr",
          "text": [
            "<ipython-input-29-1469544968b6>:39: FutureWarning: 'H' is deprecated and will be removed in a future version, please use 'h' instead.\n",
            "  future_dates = pd.date_range(start=gdf['date'].iloc[-1] + pd.Timedelta(hours=1), periods=24, freq='H')\n"
          ]
        }
      ]
    }
  ]
}